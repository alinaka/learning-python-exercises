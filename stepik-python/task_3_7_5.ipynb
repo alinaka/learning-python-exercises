{
 "cells": [
  {
   "cell_type": "code",
   "execution_count": 106,
   "metadata": {},
   "outputs": [
    {
     "name": "stdout",
     "output_type": "stream",
     "text": [
      "9\tSamuels\t169\n",
      "\n",
      "1\tFoster\t127\n",
      "\n",
      "4\tCroftoon\t142\n",
      "\n",
      "11\tSmith\t171\n",
      "\n",
      "11\tLarkins\t173\n",
      "\n",
      "6\tDuncan\t151\n",
      "\n",
      "3\tGate\t137\n",
      "\n",
      "7\tFerguson\t163\n",
      "\n",
      "7\tBootman\t158\n",
      "\n",
      "11\tTaylor\t179\n",
      "\n",
      "4\tFoster\t139\n",
      "\n",
      "1\tJacobson\t121\n",
      "\n",
      "1\tCroftoon\t121\n",
      "\n",
      "11\tSheldon\t176\n",
      "\n",
      "10\tMiers\t169\n",
      "\n",
      "5\tWallace\t140\n",
      "\n",
      "6\tMacDonald\t152\n",
      "\n",
      "7\tWarren\t164\n",
      "\n",
      "6\tBoolman\t150\n",
      "\n",
      "2\tCalhoun\t126\n",
      "\n",
      "5\tNelson\t140\n",
      "\n",
      "8\tLivingston\t162\n",
      "\n",
      "3\tJames\t134\n",
      "\n",
      "6\tTimmons\t152\n",
      "\n",
      "1\tHawkins\t127\n",
      "\n",
      "10\tAlsopp\t171\n",
      "\n",
      "1\tFrancis\t125\n",
      "\n",
      "2\tRyder\t131\n",
      "\n",
      "10\tAyrton\t173\n",
      "\n",
      "3\tCalhoun\t134\n",
      "\n",
      "10\tHailey\t175\n",
      "\n",
      "8\tFarmer\t165\n",
      "\n",
      "1\tKennedy\t126\n",
      "\n",
      "5\tLawman\t147\n",
      "\n",
      "1\tDonovan\t125\n",
      "\n",
      "8\tBargeman\t170\n",
      "\n",
      "7\tHoward\t156\n",
      "\n",
      "6\tDodson\t157\n",
      "\n",
      "2\tStanley\t133\n",
      "\n",
      "1\tGustman\t128\n",
      "\n",
      "3\tEnderson\t132\n",
      "\n",
      "4\tMarlow\t140\n",
      "\n",
      "1\tLaird\t130\n",
      "\n",
      "11\tOgden\t175\n",
      "\n",
      "7\tOswald\t164\n",
      "\n",
      "2\tOgden\t131\n",
      "\n",
      "9\tDonaldson\t166\n",
      "\n",
      "2\tSamuels\t126\n",
      "\n",
      "1\tYoumans\t120\n",
      "\n",
      "2\tTracey\t126\n",
      "\n",
      "7\tJerome\t165\n",
      "\n",
      "4\tSmith\t141\n",
      "\n",
      "2\tWard\t125\n",
      "\n",
      "2\tMilton\t128\n",
      "\n",
      "8\tVance\t166\n",
      "\n",
      "2\tMiln\t125\n",
      "\n",
      "9\tWalter\t165\n",
      "\n",
      "3\tBenson\t133\n",
      "\n",
      "7\tKirk\t163\n",
      "\n",
      "8\tColeman\t163\n",
      "\n",
      "7\tWatson\t161\n",
      "\n",
      "2\tRoger\t126\n",
      "\n"
     ]
    }
   ],
   "source": [
    "dictionary = {key: [] for key in range(1,12)}\n",
    "with open('dataset_3380_5 (7).txt') as file:\n",
    "    for line in file:\n",
    "        print(line)\n",
    "        items = line.split()\n",
    "        if items:\n",
    "            number = int(items[0])\n",
    "            height = int(items[2])\n",
    "            dictionary[number].append(height)\n",
    "\n"
   ]
  },
  {
   "cell_type": "code",
   "execution_count": 107,
   "metadata": {},
   "outputs": [
    {
     "data": {
      "text/plain": [
       "{1: [127, 121, 121, 127, 125, 126, 125, 128, 130, 120],\n",
       " 2: [126, 131, 133, 131, 126, 126, 125, 128, 125, 126],\n",
       " 3: [137, 134, 134, 132, 133],\n",
       " 4: [142, 139, 140, 141],\n",
       " 5: [140, 140, 147],\n",
       " 6: [151, 152, 150, 152, 157],\n",
       " 7: [163, 158, 164, 156, 164, 165, 163, 161],\n",
       " 8: [162, 165, 170, 166, 163],\n",
       " 9: [169, 166, 165],\n",
       " 10: [169, 171, 173, 175],\n",
       " 11: [171, 173, 179, 176, 175]}"
      ]
     },
     "execution_count": 107,
     "metadata": {},
     "output_type": "execute_result"
    }
   ],
   "source": [
    "dictionary\n"
   ]
  },
  {
   "cell_type": "code",
   "execution_count": 108,
   "metadata": {},
   "outputs": [],
   "source": [
    "def mean(numbers):\n",
    "    if not numbers:\n",
    "        return '-'\n",
    "    return float(sum(numbers) / len(numbers))"
   ]
  },
  {
   "cell_type": "code",
   "execution_count": 109,
   "metadata": {},
   "outputs": [],
   "source": [
    "res = {key: mean(value) for key, value in dictionary.items()}\n",
    "    "
   ]
  },
  {
   "cell_type": "code",
   "execution_count": 104,
   "metadata": {},
   "outputs": [
    {
     "data": {
      "text/plain": [
       "[1, 2, 3, 4, 5, 6, 7, 8, 9, 10, 11]"
      ]
     },
     "execution_count": 104,
     "metadata": {},
     "output_type": "execute_result"
    }
   ],
   "source": [
    "sorted(res)"
   ]
  },
  {
   "cell_type": "code",
   "execution_count": 110,
   "metadata": {},
   "outputs": [
    {
     "name": "stdout",
     "output_type": "stream",
     "text": [
      "1 125.0\n",
      "2 127.7\n",
      "3 134.0\n",
      "4 140.5\n",
      "5 142.33333333333334\n",
      "6 152.4\n",
      "7 161.75\n",
      "8 165.2\n",
      "9 166.66666666666666\n",
      "10 172.0\n",
      "11 174.8\n"
     ]
    }
   ],
   "source": [
    "for key in range(1, 12):\n",
    "    print(key, res[key])"
   ]
  },
  {
   "cell_type": "code",
   "execution_count": null,
   "metadata": {},
   "outputs": [],
   "source": []
  }
 ],
 "metadata": {
  "kernelspec": {
   "display_name": "Python 3",
   "language": "python",
   "name": "python3"
  },
  "language_info": {
   "codemirror_mode": {
    "name": "ipython",
    "version": 3
   },
   "file_extension": ".py",
   "mimetype": "text/x-python",
   "name": "python",
   "nbconvert_exporter": "python",
   "pygments_lexer": "ipython3",
   "version": "3.6.7"
  }
 },
 "nbformat": 4,
 "nbformat_minor": 2
}

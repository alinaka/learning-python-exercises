{
 "cells": [
  {
   "cell_type": "code",
   "execution_count": 6,
   "metadata": {},
   "outputs": [
    {
     "name": "stdout",
     "output_type": "stream",
     "text": [
      "3\n",
      "Зенит;3;Спартак;1\n",
      "Спартак;1;ЦСКА;1\n",
      "ЦСКА;0;Зенит;2\n"
     ]
    }
   ],
   "source": [
    "overall_plays = int(input())\n",
    "plays = [input().split(';') for i in range(overall_plays)]    "
   ]
  },
  {
   "cell_type": "code",
   "execution_count": 7,
   "metadata": {},
   "outputs": [
    {
     "data": {
      "text/plain": [
       "[['Зенит', '3', 'Спартак', '1'],\n",
       " ['Спартак', '1', 'ЦСКА', '1'],\n",
       " ['ЦСКА', '0', 'Зенит', '2']]"
      ]
     },
     "execution_count": 7,
     "metadata": {},
     "output_type": "execute_result"
    }
   ],
   "source": [
    "plays"
   ]
  },
  {
   "cell_type": "code",
   "execution_count": 18,
   "metadata": {},
   "outputs": [],
   "source": [
    "result = {}\n",
    "for first, first_goals, second, second_goals in plays:\n",
    "    if first not in result:\n",
    "        result[first] = {\n",
    "            \"overall_plays\": 0,\n",
    "            \"winner\": 0,\n",
    "            \"non\": 0, \n",
    "            \"losers\": 0,\n",
    "            \"total_score\": 0\n",
    "        }\n",
    "    if second not in result:\n",
    "        result[second] = {\n",
    "            \"overall_plays\": 0,\n",
    "            \"winner\": 0,\n",
    "            \"non\": 0, \n",
    "            \"losers\": 0,\n",
    "            \"total_score\": 0\n",
    "        }"
   ]
  },
  {
   "cell_type": "code",
   "execution_count": 26,
   "metadata": {},
   "outputs": [
    {
     "data": {
      "text/plain": [
       "{'Зенит': {'overall_plays': 2,\n",
       "  'winner': 2,\n",
       "  'non': 0,\n",
       "  'losers': 0,\n",
       "  'total_score': 6},\n",
       " 'Спартак': {'overall_plays': 2,\n",
       "  'winner': 0,\n",
       "  'non': 1,\n",
       "  'losers': 1,\n",
       "  'total_score': 1},\n",
       " 'ЦСКА': {'overall_plays': 2,\n",
       "  'winner': 0,\n",
       "  'non': 1,\n",
       "  'losers': 1,\n",
       "  'total_score': 1}}"
      ]
     },
     "execution_count": 26,
     "metadata": {},
     "output_type": "execute_result"
    }
   ],
   "source": [
    "result"
   ]
  },
  {
   "cell_type": "code",
   "execution_count": 19,
   "metadata": {},
   "outputs": [],
   "source": [
    "for first, first_goals, second, second_goals in plays:\n",
    "    result[second][\"overall_plays\"] += 1\n",
    "    result[first][\"overall_plays\"] += 1\n",
    "    if first_goals < second_goals:\n",
    "        result[second][\"winner\"] += 1\n",
    "        result[first][\"losers\"] += 1\n",
    "    elif first_goals > second_goals:\n",
    "        result[first][\"winner\"] += 1\n",
    "        result[second][\"losers\"] += 1\n",
    "    else:\n",
    "        result[first][\"non\"] += 1\n",
    "        result[second][\"non\"] += 1"
   ]
  },
  {
   "cell_type": "code",
   "execution_count": 25,
   "metadata": {},
   "outputs": [],
   "source": [
    "for key, value in result.items():\n",
    "    value[\"total_score\"] = value[\"winner\"]*3 + value[\"non\"]"
   ]
  },
  {
   "cell_type": "code",
   "execution_count": 28,
   "metadata": {},
   "outputs": [],
   "source": [
    "answer_finish = []\n",
    "for key, value in result.items():\n",
    "    answer_finish.append(f\"{key}: {value['overall_plays']} {value['winner']} {value['non']} {value['losers']} {value['total_score']}\")"
   ]
  },
  {
   "cell_type": "code",
   "execution_count": 29,
   "metadata": {},
   "outputs": [
    {
     "data": {
      "text/plain": [
       "['Зенит: 2 2 0 0 6', 'Спартак: 2 0 1 1 1', 'ЦСКА: 2 0 1 1 1']"
      ]
     },
     "execution_count": 29,
     "metadata": {},
     "output_type": "execute_result"
    }
   ],
   "source": [
    "answer_finish"
   ]
  },
  {
   "cell_type": "code",
   "execution_count": 30,
   "metadata": {},
   "outputs": [
    {
     "name": "stdout",
     "output_type": "stream",
     "text": [
      "['Зенит: 2 2 0 0 6', 'Спартак: 2 0 1 1 1', 'ЦСКА: 2 0 1 1 1']\n"
     ]
    }
   ],
   "source": [
    "print(answer_finish)"
   ]
  },
  {
   "cell_type": "code",
   "execution_count": 31,
   "metadata": {},
   "outputs": [
    {
     "name": "stdout",
     "output_type": "stream",
     "text": [
      "Зенит: 2 2 0 0 6\n",
      "Спартак: 2 0 1 1 1\n",
      "ЦСКА: 2 0 1 1 1\n"
     ]
    }
   ],
   "source": [
    "for i in answer_finish:\n",
    "    print(i)"
   ]
  },
  {
   "cell_type": "code",
   "execution_count": null,
   "metadata": {},
   "outputs": [],
   "source": []
  }
 ],
 "metadata": {
  "kernelspec": {
   "display_name": "Python 3",
   "language": "python",
   "name": "python3"
  },
  "language_info": {
   "codemirror_mode": {
    "name": "ipython",
    "version": 3
   },
   "file_extension": ".py",
   "mimetype": "text/x-python",
   "name": "python",
   "nbconvert_exporter": "python",
   "pygments_lexer": "ipython3",
   "version": "3.6.7"
  }
 },
 "nbformat": 4,
 "nbformat_minor": 2
}

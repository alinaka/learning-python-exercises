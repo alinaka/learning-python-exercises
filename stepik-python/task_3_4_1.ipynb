{
 "cells": [
  {
   "cell_type": "code",
   "execution_count": 2,
   "metadata": {},
   "outputs": [
    {
     "name": "stdout",
     "output_type": "stream",
     "text": [
      "a3b4c2e10b1\n"
     ]
    }
   ],
   "source": [
    "with open('input.txt') as file:\n",
    "    for line in file:\n",
    "        line = line.strip()\n",
    "        print(line)"
   ]
  },
  {
   "cell_type": "code",
   "execution_count": 15,
   "metadata": {},
   "outputs": [],
   "source": [
    "with open('dataset_3363_2.txt') as file:\n",
    "    for line in file:\n",
    "        line = line.strip()\n",
    "        result = ''\n",
    "        for index, symbol in enumerate(line):\n",
    "            if index > 0:\n",
    "                previous = line[index-1]\n",
    "            if symbol.isdigit():\n",
    "                count = int(symbol)\n",
    "                if previous.isdigit():\n",
    "                    count = int(previous)*10 + int(count) - int(previous)\n",
    "            else:\n",
    "                continue\n",
    "            if index>1 and previous.isdigit():\n",
    "                result += count * line[index-2]\n",
    "            else:\n",
    "                result += count * line[index-1]\n",
    "with open('output.txt', 'w') as file:\n",
    "    file.write(result)"
   ]
  },
  {
   "cell_type": "code",
   "execution_count": null,
   "metadata": {},
   "outputs": [],
   "source": []
  }
 ],
 "metadata": {
  "kernelspec": {
   "display_name": "Python 3",
   "language": "python",
   "name": "python3"
  },
  "language_info": {
   "codemirror_mode": {
    "name": "ipython",
    "version": 3
   },
   "file_extension": ".py",
   "mimetype": "text/x-python",
   "name": "python",
   "nbconvert_exporter": "python",
   "pygments_lexer": "ipython3",
   "version": "3.6.7"
  }
 },
 "nbformat": 4,
 "nbformat_minor": 2
}

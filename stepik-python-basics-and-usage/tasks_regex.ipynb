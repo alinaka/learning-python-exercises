{
 "cells": [
  {
   "cell_type": "code",
   "execution_count": 2,
   "metadata": {},
   "outputs": [],
   "source": [
    "import sys\n",
    "import re\n",
    "for line in sys.stdin:\n",
    "    line = line.rstrip()"
   ]
  },
  {
   "cell_type": "code",
   "execution_count": 4,
   "metadata": {},
   "outputs": [],
   "source": [
    "for line in sys.stdin:\n",
    "    line = line.rstrip()\n",
    "    found = re.findall(r\"cat\", line)\n",
    "    if len(found) > 1:\n",
    "        result.append(line)\n",
    "for item in result:\n",
    "    print(item)"
   ]
  },
  {
   "cell_type": "code",
   "execution_count": 28,
   "metadata": {},
   "outputs": [
    {
     "name": "stdout",
     "output_type": "stream",
     "text": [
      "<_sre.SRE_Match object; span=(0, 3), match='cat'>\n"
     ]
    }
   ],
   "source": [
    "template = r'\\bcat\\b'\n",
    "word = \"cat\"\n",
    "print(re.search(template, word))"
   ]
  },
  {
   "cell_type": "code",
   "execution_count": 8,
   "metadata": {},
   "outputs": [
    {
     "name": "stdout",
     "output_type": "stream",
     "text": [
      "None\n"
     ]
    }
   ],
   "source": [
    "word = 'zxz'\n",
    "template = r'z.{3}z'\n",
    "print(re.search(template, word))"
   ]
  },
  {
   "cell_type": "code",
   "execution_count": 10,
   "metadata": {},
   "outputs": [
    {
     "name": "stdout",
     "output_type": "stream",
     "text": [
      "None\n"
     ]
    }
   ],
   "source": [
    "word = 'No slashes here'\n",
    "template = r'\\\\'\n",
    "print(re.search(template, word))"
   ]
  },
  {
   "cell_type": "code",
   "execution_count": 25,
   "metadata": {},
   "outputs": [
    {
     "name": "stdout",
     "output_type": "stream",
     "text": [
      "<_sre.SRE_Match object; span=(0, 6), match='blabla'>\n"
     ]
    }
   ],
   "source": [
    "word = 'blabla is a tandem repetition'\n",
    "template = r'(\\w+)\\1\\b'\n",
    "print(re.match(template, word))"
   ]
  },
  {
   "cell_type": "code",
   "execution_count": 27,
   "metadata": {},
   "outputs": [
    {
     "name": "stdout",
     "output_type": "stream",
     "text": [
      "I need to understand the computer mind\n"
     ]
    }
   ],
   "source": [
    "word = 'I need to understand the human mind'\n",
    "template = r'human'\n",
    "print(re.sub(template, 'computer', word))"
   ]
  },
  {
   "cell_type": "code",
   "execution_count": 31,
   "metadata": {},
   "outputs": [
    {
     "name": "stdout",
     "output_type": "stream",
     "text": [
      "argh AaAaAaA\n"
     ]
    }
   ],
   "source": [
    "word = 'AaAaAaA AaAaAaA'\n",
    "template = r'a+\\b'\n",
    "print(re.sub(template, 'argh', word, count=1,flags=re.IGNORECASE))"
   ]
  },
  {
   "cell_type": "code",
   "execution_count": 54,
   "metadata": {},
   "outputs": [
    {
     "name": "stdout",
     "output_type": "stream",
     "text": [
      "\"htis !si. ?1nce,\n"
     ]
    }
   ],
   "source": [
    "word = '\"this !is. ?n1ce,'\n",
    "template = r'\\b(\\w)(\\w)'\n",
    "print(re.sub(template, r'\\2\\1', word))"
   ]
  },
  {
   "cell_type": "code",
   "execution_count": 58,
   "metadata": {},
   "outputs": [
    {
     "name": "stdout",
     "output_type": "stream",
     "text": [
      "buz\n"
     ]
    }
   ],
   "source": [
    "word = 'buzzzz'\n",
    "template = r'(\\w)\\1*'\n",
    "print(re.sub(template, r'\\1', word))"
   ]
  },
  {
   "cell_type": "code",
   "execution_count": 64,
   "metadata": {},
   "outputs": [
    {
     "name": "stdout",
     "output_type": "stream",
     "text": [
      "None\n"
     ]
    }
   ],
   "source": [
    "word = 'Not a number'\n",
    "template = r\"(1(01*0)*1|0)*\"\n",
    "print(re.fullmatch(template, word))"
   ]
  },
  {
   "cell_type": "code",
   "execution_count": 82,
   "metadata": {},
   "outputs": [
    {
     "name": "stdout",
     "output_type": "stream",
     "text": [
      "['https://stepic.org/media/attachments/lesson/24472/sample1.html'] ['https://stepic.org/media/attachments/lesson/24472/sample2.html']\n",
      "No\n"
     ]
    }
   ],
   "source": [
    "import requests\n",
    "import re\n",
    "url1 = 'https://stepic.org/media/attachments/lesson/24472/sample0.html'\n",
    "url2 = 'https://stepic.org/media/attachments/lesson/24472/sample1.html'\n",
    "response = requests.get(url1)\n",
    "pattern = r'href=\"(http.*\\.html)'\n",
    "urls = re.findall(pattern, response.text)\n",
    "second_urls = []\n",
    "for url in urls:\n",
    "    res = requests.get(url)\n",
    "    second_urls.extend(re.findall(pattern, res.text))\n",
    "print(urls, second_urls)\n",
    "if url2 in second_urls:\n",
    "    print('Yes')\n",
    "else:\n",
    "    print('No')"
   ]
  },
  {
   "cell_type": "code",
   "execution_count": 31,
   "metadata": {},
   "outputs": [
    {
     "data": {
      "text/plain": [
       "[]"
      ]
     },
     "execution_count": 31,
     "metadata": {},
     "output_type": "execute_result"
    }
   ],
   "source": [
    "res = '<a href=\"../skip_relative_links\">'\n",
    "pattern = r'(?:<a .*)(?:href=[\\\"\\'])(?:[\\w\\-]+\\:\\/\\/)?(\\w[\\w\\.\\-]+)'\n",
    "urls = re.findall(pattern, res)\n",
    "urls"
   ]
  },
  {
   "cell_type": "code",
   "execution_count": null,
   "metadata": {},
   "outputs": [],
   "source": []
  },
  {
   "cell_type": "code",
   "execution_count": null,
   "metadata": {},
   "outputs": [],
   "source": []
  }
 ],
 "metadata": {
  "kernelspec": {
   "display_name": "Python 3",
   "language": "python",
   "name": "python3"
  },
  "language_info": {
   "codemirror_mode": {
    "name": "ipython",
    "version": 3
   },
   "file_extension": ".py",
   "mimetype": "text/x-python",
   "name": "python",
   "nbconvert_exporter": "python",
   "pygments_lexer": "ipython3",
   "version": "3.6.7"
  }
 },
 "nbformat": 4,
 "nbformat_minor": 2
}
